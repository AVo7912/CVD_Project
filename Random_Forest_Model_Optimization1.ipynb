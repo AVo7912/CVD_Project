{
 "cells": [
  {
   "cell_type": "code",
   "execution_count": 2,
   "metadata": {
    "colab": {
     "base_uri": "https://localhost:8080/",
     "height": 305
    },
    "id": "XRJ04-sruixq",
    "outputId": "0e09b6cd-ca38-44c0-a313-46068352a3c5"
   },
   "outputs": [
    {
     "data": {
      "text/html": [
       "<div>\n",
       "<style scoped>\n",
       "    .dataframe tbody tr th:only-of-type {\n",
       "        vertical-align: middle;\n",
       "    }\n",
       "\n",
       "    .dataframe tbody tr th {\n",
       "        vertical-align: top;\n",
       "    }\n",
       "\n",
       "    .dataframe thead th {\n",
       "        text-align: right;\n",
       "    }\n",
       "</style>\n",
       "<table border=\"1\" class=\"dataframe\">\n",
       "  <thead>\n",
       "    <tr style=\"text-align: right;\">\n",
       "      <th></th>\n",
       "      <th>General_Health</th>\n",
       "      <th>Checkup</th>\n",
       "      <th>Exercise</th>\n",
       "      <th>Heart_Disease</th>\n",
       "      <th>Skin_Cancer</th>\n",
       "      <th>Other_Cancer</th>\n",
       "      <th>Depression</th>\n",
       "      <th>Diabetes</th>\n",
       "      <th>Arthritis</th>\n",
       "      <th>Sex</th>\n",
       "      <th>BMI</th>\n",
       "      <th>Smoking_History</th>\n",
       "      <th>Alcohol_Consumption</th>\n",
       "      <th>Fruit_Consumption</th>\n",
       "      <th>Green_Vegetables_Consumption</th>\n",
       "      <th>FriedPotato_Consumption</th>\n",
       "      <th>Age_Group</th>\n",
       "    </tr>\n",
       "  </thead>\n",
       "  <tbody>\n",
       "    <tr>\n",
       "      <th>0</th>\n",
       "      <td>0</td>\n",
       "      <td>3</td>\n",
       "      <td>0</td>\n",
       "      <td>0</td>\n",
       "      <td>0</td>\n",
       "      <td>0</td>\n",
       "      <td>0</td>\n",
       "      <td>0</td>\n",
       "      <td>1</td>\n",
       "      <td>1</td>\n",
       "      <td>14.54</td>\n",
       "      <td>1</td>\n",
       "      <td>0.0</td>\n",
       "      <td>30.0</td>\n",
       "      <td>16.0</td>\n",
       "      <td>12.0</td>\n",
       "      <td>4</td>\n",
       "    </tr>\n",
       "    <tr>\n",
       "      <th>1</th>\n",
       "      <td>3</td>\n",
       "      <td>4</td>\n",
       "      <td>0</td>\n",
       "      <td>1</td>\n",
       "      <td>0</td>\n",
       "      <td>0</td>\n",
       "      <td>0</td>\n",
       "      <td>1</td>\n",
       "      <td>0</td>\n",
       "      <td>1</td>\n",
       "      <td>28.29</td>\n",
       "      <td>0</td>\n",
       "      <td>0.0</td>\n",
       "      <td>30.0</td>\n",
       "      <td>0.0</td>\n",
       "      <td>4.0</td>\n",
       "      <td>4</td>\n",
       "    </tr>\n",
       "    <tr>\n",
       "      <th>2</th>\n",
       "      <td>3</td>\n",
       "      <td>4</td>\n",
       "      <td>1</td>\n",
       "      <td>0</td>\n",
       "      <td>0</td>\n",
       "      <td>0</td>\n",
       "      <td>0</td>\n",
       "      <td>1</td>\n",
       "      <td>0</td>\n",
       "      <td>1</td>\n",
       "      <td>33.47</td>\n",
       "      <td>0</td>\n",
       "      <td>4.0</td>\n",
       "      <td>12.0</td>\n",
       "      <td>3.0</td>\n",
       "      <td>16.0</td>\n",
       "      <td>3</td>\n",
       "    </tr>\n",
       "    <tr>\n",
       "      <th>3</th>\n",
       "      <td>0</td>\n",
       "      <td>4</td>\n",
       "      <td>1</td>\n",
       "      <td>1</td>\n",
       "      <td>0</td>\n",
       "      <td>0</td>\n",
       "      <td>0</td>\n",
       "      <td>1</td>\n",
       "      <td>0</td>\n",
       "      <td>0</td>\n",
       "      <td>28.73</td>\n",
       "      <td>0</td>\n",
       "      <td>0.0</td>\n",
       "      <td>30.0</td>\n",
       "      <td>30.0</td>\n",
       "      <td>8.0</td>\n",
       "      <td>4</td>\n",
       "    </tr>\n",
       "    <tr>\n",
       "      <th>4</th>\n",
       "      <td>2</td>\n",
       "      <td>4</td>\n",
       "      <td>0</td>\n",
       "      <td>0</td>\n",
       "      <td>0</td>\n",
       "      <td>0</td>\n",
       "      <td>0</td>\n",
       "      <td>0</td>\n",
       "      <td>0</td>\n",
       "      <td>0</td>\n",
       "      <td>24.37</td>\n",
       "      <td>1</td>\n",
       "      <td>0.0</td>\n",
       "      <td>8.0</td>\n",
       "      <td>4.0</td>\n",
       "      <td>0.0</td>\n",
       "      <td>4</td>\n",
       "    </tr>\n",
       "  </tbody>\n",
       "</table>\n",
       "</div>"
      ],
      "text/plain": [
       "   General_Health  Checkup  Exercise  Heart_Disease  Skin_Cancer  \\\n",
       "0               0        3         0              0            0   \n",
       "1               3        4         0              1            0   \n",
       "2               3        4         1              0            0   \n",
       "3               0        4         1              1            0   \n",
       "4               2        4         0              0            0   \n",
       "\n",
       "   Other_Cancer  Depression  Diabetes  Arthritis  Sex    BMI  Smoking_History  \\\n",
       "0             0           0         0          1    1  14.54                1   \n",
       "1             0           0         1          0    1  28.29                0   \n",
       "2             0           0         1          0    1  33.47                0   \n",
       "3             0           0         1          0    0  28.73                0   \n",
       "4             0           0         0          0    0  24.37                1   \n",
       "\n",
       "   Alcohol_Consumption  Fruit_Consumption  Green_Vegetables_Consumption  \\\n",
       "0                  0.0               30.0                          16.0   \n",
       "1                  0.0               30.0                           0.0   \n",
       "2                  4.0               12.0                           3.0   \n",
       "3                  0.0               30.0                          30.0   \n",
       "4                  0.0                8.0                           4.0   \n",
       "\n",
       "   FriedPotato_Consumption  Age_Group  \n",
       "0                     12.0          4  \n",
       "1                      4.0          4  \n",
       "2                     16.0          3  \n",
       "3                      8.0          4  \n",
       "4                      0.0          4  "
      ]
     },
     "execution_count": 2,
     "metadata": {},
     "output_type": "execute_result"
    }
   ],
   "source": [
    "# Import dependencies\n",
    "from sklearn.model_selection import train_test_split\n",
    "from sklearn.preprocessing import StandardScaler\n",
    "import pandas as pd\n",
    "import matplotlib.pyplot as plt\n",
    "import seaborn as sns \n",
    "import numpy as np\n",
    "\n",
    "# Import and read the healthcare-dataset-stroke-data.csv.\n",
    "import pandas as pd \n",
    "cvd_df = pd.read_csv(\"C:/Users/Aline/OneDrive/Desktop/Boot Camp/Project 4/heart_cleaned.csv\")\n",
    "cvd_df.head()"
   ]
  },
  {
   "cell_type": "markdown",
   "metadata": {
    "id": "_lPgQqUqAhz6"
   },
   "source": [
    "## **EDA & Preprocessing**\n"
   ]
  },
  {
   "cell_type": "code",
   "execution_count": 3,
   "metadata": {
    "colab": {
     "base_uri": "https://localhost:8080/"
    },
    "id": "CfYBDKU6IjtF",
    "outputId": "939f659c-1cc8-4117-a945-8ea94789b25f"
   },
   "outputs": [
    {
     "name": "stdout",
     "output_type": "stream",
     "text": [
      "<class 'pandas.core.frame.DataFrame'>\n",
      "RangeIndex: 308854 entries, 0 to 308853\n",
      "Data columns (total 17 columns):\n",
      " #   Column                        Non-Null Count   Dtype  \n",
      "---  ------                        --------------   -----  \n",
      " 0   General_Health                308854 non-null  int64  \n",
      " 1   Checkup                       308854 non-null  int64  \n",
      " 2   Exercise                      308854 non-null  int64  \n",
      " 3   Heart_Disease                 308854 non-null  int64  \n",
      " 4   Skin_Cancer                   308854 non-null  int64  \n",
      " 5   Other_Cancer                  308854 non-null  int64  \n",
      " 6   Depression                    308854 non-null  int64  \n",
      " 7   Diabetes                      308854 non-null  int64  \n",
      " 8   Arthritis                     308854 non-null  int64  \n",
      " 9   Sex                           308854 non-null  int64  \n",
      " 10  BMI                           308854 non-null  float64\n",
      " 11  Smoking_History               308854 non-null  int64  \n",
      " 12  Alcohol_Consumption           308854 non-null  float64\n",
      " 13  Fruit_Consumption             308854 non-null  float64\n",
      " 14  Green_Vegetables_Consumption  308854 non-null  float64\n",
      " 15  FriedPotato_Consumption       308854 non-null  float64\n",
      " 16  Age_Group                     308854 non-null  int64  \n",
      "dtypes: float64(5), int64(12)\n",
      "memory usage: 40.1 MB\n"
     ]
    }
   ],
   "source": [
    "# Examine the info for the dataframe\n",
    "cvd_df.info()"
   ]
  },
  {
   "cell_type": "code",
   "execution_count": 4,
   "metadata": {
    "colab": {
     "base_uri": "https://localhost:8080/"
    },
    "id": "2nDEn0MvLi1S",
    "outputId": "fc5478e5-6602-453c-f3bc-cbacd9d3134a"
   },
   "outputs": [
    {
     "data": {
      "text/plain": [
       "General_Health                  0\n",
       "Checkup                         0\n",
       "Exercise                        0\n",
       "Heart_Disease                   0\n",
       "Skin_Cancer                     0\n",
       "Other_Cancer                    0\n",
       "Depression                      0\n",
       "Diabetes                        0\n",
       "Arthritis                       0\n",
       "Sex                             0\n",
       "BMI                             0\n",
       "Smoking_History                 0\n",
       "Alcohol_Consumption             0\n",
       "Fruit_Consumption               0\n",
       "Green_Vegetables_Consumption    0\n",
       "FriedPotato_Consumption         0\n",
       "Age_Group                       0\n",
       "dtype: int64"
      ]
     },
     "execution_count": 4,
     "metadata": {},
     "output_type": "execute_result"
    }
   ],
   "source": [
    "# Examine the total NaN values for each column\n",
    "cvd_df.isnull().sum()"
   ]
  },
  {
   "cell_type": "code",
   "execution_count": 5,
   "metadata": {
    "colab": {
     "base_uri": "https://localhost:8080/"
    },
    "id": "XM3VsqShDZYZ",
    "outputId": "4a179cbf-336c-4edd-ba28-8fd549c31833"
   },
   "outputs": [
    {
     "data": {
      "text/plain": [
       "Age_Group\n",
       "0    26.005244\n",
       "1    28.585826\n",
       "2    29.697715\n",
       "3    29.151087\n",
       "4    27.672867\n",
       "Name: BMI, dtype: float64"
      ]
     },
     "execution_count": 5,
     "metadata": {},
     "output_type": "execute_result"
    }
   ],
   "source": [
    "# Create a series of average BMI for each age\n",
    "avg_bmi_by_age = cvd_df.groupby('Age_Group')['BMI'].mean()\n",
    "avg_bmi_by_age"
   ]
  },
  {
   "cell_type": "code",
   "execution_count": 6,
   "metadata": {
    "id": "YbUXJ5SwRI_f"
   },
   "outputs": [],
   "source": [
    "# Replace NaN values in the \"bmi\" column with the average BMI of the corresponding age\n",
    "def replace_bmi(row):\n",
    "    if pd.isna(row['BMI']):\n",
    "        return avg_bmi_by_age[row['Age_Group']]\n",
    "    else:\n",
    "        return row['BMI']\n",
    "\n",
    "cvd_df['BMI'] = cvd_df.apply(replace_bmi, axis=1)"
   ]
  },
  {
   "cell_type": "code",
   "execution_count": 7,
   "metadata": {
    "colab": {
     "base_uri": "https://localhost:8080/"
    },
    "id": "xYFPW9v7WQAS",
    "outputId": "95215057-d002-48c6-81c8-7a036a792411"
   },
   "outputs": [
    {
     "name": "stdout",
     "output_type": "stream",
     "text": [
      "<class 'pandas.core.frame.DataFrame'>\n",
      "RangeIndex: 308854 entries, 0 to 308853\n",
      "Data columns (total 17 columns):\n",
      " #   Column                        Non-Null Count   Dtype  \n",
      "---  ------                        --------------   -----  \n",
      " 0   General_Health                308854 non-null  int64  \n",
      " 1   Checkup                       308854 non-null  int64  \n",
      " 2   Exercise                      308854 non-null  int64  \n",
      " 3   Heart_Disease                 308854 non-null  int64  \n",
      " 4   Skin_Cancer                   308854 non-null  int64  \n",
      " 5   Other_Cancer                  308854 non-null  int64  \n",
      " 6   Depression                    308854 non-null  int64  \n",
      " 7   Diabetes                      308854 non-null  int64  \n",
      " 8   Arthritis                     308854 non-null  int64  \n",
      " 9   Sex                           308854 non-null  int64  \n",
      " 10  BMI                           308854 non-null  float64\n",
      " 11  Smoking_History               308854 non-null  int64  \n",
      " 12  Alcohol_Consumption           308854 non-null  float64\n",
      " 13  Fruit_Consumption             308854 non-null  float64\n",
      " 14  Green_Vegetables_Consumption  308854 non-null  float64\n",
      " 15  FriedPotato_Consumption       308854 non-null  float64\n",
      " 16  Age_Group                     308854 non-null  int64  \n",
      "dtypes: float64(5), int64(12)\n",
      "memory usage: 40.1 MB\n"
     ]
    }
   ],
   "source": [
    "# Check the info of the dataframe (if the NaN values in the 'bmi' column are replaced)\n",
    "cvd_df.info()"
   ]
  },
  {
   "cell_type": "code",
   "execution_count": 8,
   "metadata": {
    "colab": {
     "base_uri": "https://localhost:8080/"
    },
    "id": "FfnMB2TBEkXf",
    "outputId": "6f226b5e-f032-4844-d9ea-568906f9c39c"
   },
   "outputs": [
    {
     "data": {
      "text/plain": [
       "General_Health                     5\n",
       "Checkup                            5\n",
       "Exercise                           2\n",
       "Heart_Disease                      2\n",
       "Skin_Cancer                        2\n",
       "Other_Cancer                       2\n",
       "Depression                         2\n",
       "Diabetes                           4\n",
       "Arthritis                          2\n",
       "Sex                                2\n",
       "BMI                             3654\n",
       "Smoking_History                    2\n",
       "Alcohol_Consumption               31\n",
       "Fruit_Consumption                 77\n",
       "Green_Vegetables_Consumption      75\n",
       "FriedPotato_Consumption           69\n",
       "Age_Group                          5\n",
       "dtype: int64"
      ]
     },
     "execution_count": 8,
     "metadata": {},
     "output_type": "execute_result"
    }
   ],
   "source": [
    "# Determine the number of unique values in each column.\n",
    "cvd_df.nunique()"
   ]
  },
  {
   "cell_type": "code",
   "execution_count": 9,
   "metadata": {},
   "outputs": [
    {
     "data": {
      "image/png": "[encoded data removed]",
      "text/plain": [
       "<Figure size 640x480 with 20 Axes>"
      ]
     },
     "metadata": {},
     "output_type": "display_data"
    }
   ],
   "source": [
    "# Examine Data Distribution on numerical columns\n",
    "cvd_df.hist()\n",
    "plt.tight_layout()"
   ]
  },
  {
   "cell_type": "code",
   "execution_count": 10,
   "metadata": {
    "colab": {
     "base_uri": "https://localhost:8080/"
    },
    "id": "H_xUW3kv7j8O",
    "outputId": "063f570b-2fdf-4905-9ff4-3a7274365ee3"
   },
   "outputs": [
    {
     "data": {
      "text/plain": [
       "Heart_Disease\n",
       "0    283883\n",
       "1     24971\n",
       "Name: count, dtype: int64"
      ]
     },
     "execution_count": 10,
     "metadata": {},
     "output_type": "execute_result"
    }
   ],
   "source": [
    "# Look at the stroke outcome value counts\n",
    "cvd_counts = cvd_df['Heart_Disease'].value_counts()\n",
    "cvd_counts"
   ]
  },
  {
   "cell_type": "code",
   "execution_count": 11,
   "metadata": {},
   "outputs": [
    {
     "data": {
      "text/plain": [
       "Text(0.5, 1.0, 'Heart Disease Outcome Distribution')"
      ]
     },
     "execution_count": 11,
     "metadata": {},
     "output_type": "execute_result"
    },
    {
     "data": {
      "image/png": "[encoded data removed]",
      "text/plain": [
       "<Figure size 640x480 with 1 Axes>"
      ]
     },
     "metadata": {},
     "output_type": "display_data"
    }
   ],
   "source": [
    "# Examine the distribution of stroke column\n",
    "plt.bar(x = cvd_counts.index, height = cvd_counts, tick_label = ['0', '1'])\n",
    "plt.title('Heart Disease Outcome Distribution')"
   ]
  },
  {
   "cell_type": "code",
   "execution_count": 12,
   "metadata": {
    "id": "ea782UxzgtsM"
   },
   "outputs": [],
   "source": [
    "# Split the data into X and y\n",
    "y = cvd_df['Heart_Disease']\n",
    "X = cvd_df.drop(columns=['Heart_Disease'])"
   ]
  },
  {
   "cell_type": "code",
   "execution_count": 13,
   "metadata": {
    "id": "qy76XUrCgKyW"
   },
   "outputs": [],
   "source": [
    "# Import RandomOverSampler\n",
    "from imblearn.over_sampling import SMOTE"
   ]
  },
  {
   "cell_type": "code",
   "execution_count": 16,
   "metadata": {
    "id": "YrQWgB4EhMcW"
   },
   "outputs": [],
   "source": [
    "# Perform oversampling with SMOTE\n",
    "smote = SMOTE()\n",
    "X_smote, y_smote = smote.fit_resample(X_encoded, y)"
   ]
  },
  {
   "cell_type": "code",
   "execution_count": 17,
   "metadata": {},
   "outputs": [],
   "source": [
    "# Convert categorical data to numeric with `pd.get_dummies` (only on X, bc y is already 0s and 1s)\n",
    "X_encoded = pd.get_dummies(X)"
   ]
  },
  {
   "cell_type": "code",
   "execution_count": 18,
   "metadata": {
    "id": "X4FuF4MllrNS"
   },
   "outputs": [],
   "source": [
    "# Create a StandardScaler instance\n",
    "scaler = StandardScaler()\n",
    "\n",
    "# Fit the StandardScaler\n",
    "X_scaler = scaler.fit(X_smote)"
   ]
  },
  {
   "cell_type": "code",
   "execution_count": 19,
   "metadata": {
    "id": "GQzO_VGdiSxP"
   },
   "outputs": [],
   "source": [
    "# Split the processed data into training and testing sets\n",
    "X_train, X_test, y_train, y_test = train_test_split(X_smote, y_smote, test_size = 0.2, random_state=1)"
   ]
  },
  {
   "cell_type": "markdown",
   "metadata": {
    "id": "eVFpoxYy1pi2"
   },
   "source": [
    "## **Train and Evaluate the Model**"
   ]
  },
  {
   "cell_type": "markdown",
   "metadata": {
    "id": "J_h4Ixyi0ALC"
   },
   "source": [
    "### **Train model on resampled data using `SMOTE`**"
   ]
  },
  {
   "cell_type": "code",
   "execution_count": 20,
   "metadata": {
    "id": "TClVwbub4stn"
   },
   "outputs": [],
   "source": [
    "# Dependencies\n",
    "from sklearn.ensemble import RandomForestClassifier\n",
    "from sklearn.metrics import accuracy_score, confusion_matrix, classification_report, r2_score"
   ]
  },
  {
   "cell_type": "code",
   "execution_count": 21,
   "metadata": {
    "id": "MXcGjd3G14Zp"
   },
   "outputs": [],
   "source": [
    "# Instantiate a Random Forest Classifier model\n",
    "rf_model = RandomForestClassifier(n_estimators=100, class_weight='balanced', random_state=1)"
   ]
  },
  {
   "cell_type": "code",
   "execution_count": 22,
   "metadata": {
    "colab": {
     "base_uri": "https://localhost:8080/",
     "height": 74
    },
    "id": "HUk52msW9kur",
    "outputId": "68f66a92-c1b3-45f7-91b6-7435b1976f38"
   },
   "outputs": [
    {
     "data": {
      "text/html": [
       "<style>#sk-container-id-1 {color: black;}#sk-container-id-1 pre{padding: 0;}#sk-container-id-1 div.sk-toggleable {background-color: white;}#sk-container-id-1 label.sk-toggleable__label {cursor: pointer;display: block;width: 100%;margin-bottom: 0;padding: 0.3em;box-sizing: border-box;text-align: center;}#sk-container-id-1 label.sk-toggleable__label-arrow:before {content: \"▸\";float: left;margin-right: 0.25em;color: #696969;}#sk-container-id-1 label.sk-toggleable__label-arrow:hover:before {color: black;}#sk-container-id-1 div.sk-estimator:hover label.sk-toggleable__label-arrow:before {color: black;}#sk-container-id-1 div.sk-toggleable__content {max-height: 0;max-width: 0;overflow: hidden;text-align: left;background-color: #f0f8ff;}#sk-container-id-1 div.sk-toggleable__content pre {margin: 0.2em;color: black;border-radius: 0.25em;background-color: #f0f8ff;}#sk-container-id-1 input.sk-toggleable__control:checked~div.sk-toggleable__content {max-height: 200px;max-width: 100%;overflow: auto;}#sk-container-id-1 input.sk-toggleable__control:checked~label.sk-toggleable__label-arrow:before {content: \"▾\";}#sk-container-id-1 div.sk-estimator input.sk-toggleable__control:checked~label.sk-toggleable__label {background-color: #d4ebff;}#sk-container-id-1 div.sk-label input.sk-toggleable__control:checked~label.sk-toggleable__label {background-color: #d4ebff;}#sk-container-id-1 input.sk-hidden--visually {border: 0;clip: rect(1px 1px 1px 1px);clip: rect(1px, 1px, 1px, 1px);height: 1px;margin: -1px;overflow: hidden;padding: 0;position: absolute;width: 1px;}#sk-container-id-1 div.sk-estimator {font-family: monospace;background-color: #f0f8ff;border: 1px dotted black;border-radius: 0.25em;box-sizing: border-box;margin-bottom: 0.5em;}#sk-container-id-1 div.sk-estimator:hover {background-color: #d4ebff;}#sk-container-id-1 div.sk-parallel-item::after {content: \"\";width: 100%;border-bottom: 1px solid gray;flex-grow: 1;}#sk-container-id-1 div.sk-label:hover label.sk-toggleable__label {background-color: #d4ebff;}#sk-container-id-1 div.sk-serial::before {content: \"\";position: absolute;border-left: 1px solid gray;box-sizing: border-box;top: 0;bottom: 0;left: 50%;z-index: 0;}#sk-container-id-1 div.sk-serial {display: flex;flex-direction: column;align-items: center;background-color: white;padding-right: 0.2em;padding-left: 0.2em;position: relative;}#sk-container-id-1 div.sk-item {position: relative;z-index: 1;}#sk-container-id-1 div.sk-parallel {display: flex;align-items: stretch;justify-content: center;background-color: white;position: relative;}#sk-container-id-1 div.sk-item::before, #sk-container-id-1 div.sk-parallel-item::before {content: \"\";position: absolute;border-left: 1px solid gray;box-sizing: border-box;top: 0;bottom: 0;left: 50%;z-index: -1;}#sk-container-id-1 div.sk-parallel-item {display: flex;flex-direction: column;z-index: 1;position: relative;background-color: white;}#sk-container-id-1 div.sk-parallel-item:first-child::after {align-self: flex-end;width: 50%;}#sk-container-id-1 div.sk-parallel-item:last-child::after {align-self: flex-start;width: 50%;}#sk-container-id-1 div.sk-parallel-item:only-child::after {width: 0;}#sk-container-id-1 div.sk-dashed-wrapped {border: 1px dashed gray;margin: 0 0.4em 0.5em 0.4em;box-sizing: border-box;padding-bottom: 0.4em;background-color: white;}#sk-container-id-1 div.sk-label label {font-family: monospace;font-weight: bold;display: inline-block;line-height: 1.2em;}#sk-container-id-1 div.sk-label-container {text-align: center;}#sk-container-id-1 div.sk-container {/* jupyter's `normalize.less` sets `[hidden] { display: none; }` but bootstrap.min.css set `[hidden] { display: none !important; }` so we also need the `!important` here to be able to override the default hidden behavior on the sphinx rendered scikit-learn.org. See: https://github.com/scikit-learn/scikit-learn/issues/21755 */display: inline-block !important;position: relative;}#sk-container-id-1 div.sk-text-repr-fallback {display: none;}</style><div id=\"sk-container-id-1\" class=\"sk-top-container\"><div class=\"sk-text-repr-fallback\"><pre>RandomForestClassifier(class_weight=&#x27;balanced&#x27;, random_state=1)</pre><b>In a Jupyter environment, please rerun this cell to show the HTML representation or trust the notebook. <br />On GitHub, the HTML representation is unable to render, please try loading this page with nbviewer.org.</b></div><div class=\"sk-container\" hidden><div class=\"sk-item\"><div class=\"sk-estimator sk-toggleable\"><input class=\"sk-toggleable__control sk-hidden--visually\" id=\"sk-estimator-id-1\" type=\"checkbox\" checked><label for=\"sk-estimator-id-1\" class=\"sk-toggleable__label sk-toggleable__label-arrow\">RandomForestClassifier</label><div class=\"sk-toggleable__content\"><pre>RandomForestClassifier(class_weight=&#x27;balanced&#x27;, random_state=1)</pre></div></div></div></div></div>"
      ],
      "text/plain": [
       "RandomForestClassifier(class_weight='balanced', random_state=1)"
      ]
     },
     "execution_count": 22,
     "metadata": {},
     "output_type": "execute_result"
    }
   ],
   "source": [
    "# Fit the model with training data\n",
    "rf_model.fit(X_train, y_train)"
   ]
  },
  {
   "cell_type": "code",
   "execution_count": 23,
   "metadata": {
    "id": "yfJNHvqY9k__"
   },
   "outputs": [],
   "source": [
    "# Make predictions on the test set\n",
    "predictions = rf_model.predict(X_test)"
   ]
  },
  {
   "cell_type": "code",
   "execution_count": 24,
   "metadata": {
    "id": "Z5QOHWlf-JAN"
   },
   "outputs": [],
   "source": [
    "# Evaluate the model with Confusion Matrix and accuracy score\n",
    "cm = confusion_matrix(y_test, predictions)\n",
    "cm_df = pd.DataFrame(\n",
    "    cm, index=[\"Actual 0\", \"Actual 1\"], columns=[\"Predicted 0\", \"Predicted 1\"]\n",
    ")\n",
    "\n",
    "acc_score = accuracy_score(y_test, predictions)"
   ]
  },
  {
   "cell_type": "code",
   "execution_count": 25,
   "metadata": {
    "colab": {
     "base_uri": "https://localhost:8080/",
     "height": 112
    },
    "id": "1zRTU2yN-YLX",
    "outputId": "8719c5d1-d522-46aa-9072-cef30aec0820"
   },
   "outputs": [
    {
     "data": {
      "text/html": [
       "<div>\n",
       "<style scoped>\n",
       "    .dataframe tbody tr th:only-of-type {\n",
       "        vertical-align: middle;\n",
       "    }\n",
       "\n",
       "    .dataframe tbody tr th {\n",
       "        vertical-align: top;\n",
       "    }\n",
       "\n",
       "    .dataframe thead th {\n",
       "        text-align: right;\n",
       "    }\n",
       "</style>\n",
       "<table border=\"1\" class=\"dataframe\">\n",
       "  <thead>\n",
       "    <tr style=\"text-align: right;\">\n",
       "      <th></th>\n",
       "      <th>Predicted 0</th>\n",
       "      <th>Predicted 1</th>\n",
       "    </tr>\n",
       "  </thead>\n",
       "  <tbody>\n",
       "    <tr>\n",
       "      <th>Actual 0</th>\n",
       "      <td>51753</td>\n",
       "      <td>5069</td>\n",
       "    </tr>\n",
       "    <tr>\n",
       "      <th>Actual 1</th>\n",
       "      <td>3962</td>\n",
       "      <td>52770</td>\n",
       "    </tr>\n",
       "  </tbody>\n",
       "</table>\n",
       "</div>"
      ],
      "text/plain": [
       "          Predicted 0  Predicted 1\n",
       "Actual 0        51753         5069\n",
       "Actual 1         3962        52770"
      ]
     },
     "metadata": {},
     "output_type": "display_data"
    }
   ],
   "source": [
    "# Generate a confusion matrix for the model\n",
    "display(cm_df)"
   ]
  },
  {
   "cell_type": "code",
   "execution_count": 26,
   "metadata": {
    "colab": {
     "base_uri": "https://localhost:8080/"
    },
    "id": "izCf-YWO-dyb",
    "outputId": "088d9722-a77d-4dd6-bbeb-c92fdd07edd7"
   },
   "outputs": [
    {
     "name": "stdout",
     "output_type": "stream",
     "text": [
      "Accuracy Score : 0.9204695563344312\n"
     ]
    }
   ],
   "source": [
    "# Look at the accuracy score \n",
    "print(f\"Accuracy Score : {acc_score}\")"
   ]
  },
  {
   "cell_type": "code",
   "execution_count": 27,
   "metadata": {
    "colab": {
     "base_uri": "https://localhost:8080/"
    },
    "id": "53TdixsEo_ni",
    "outputId": "a997abfb-7a4d-45fe-ec6b-191b5fdb35ca",
    "scrolled": true
   },
   "outputs": [
    {
     "name": "stdout",
     "output_type": "stream",
     "text": [
      "Classification Report\n",
      "              precision    recall  f1-score   support\n",
      "\n",
      "           0       0.93      0.91      0.92     56822\n",
      "           1       0.91      0.93      0.92     56732\n",
      "\n",
      "    accuracy                           0.92    113554\n",
      "   macro avg       0.92      0.92      0.92    113554\n",
      "weighted avg       0.92      0.92      0.92    113554\n",
      "\n"
     ]
    }
   ],
   "source": [
    "# Look at the classification report\n",
    "print(\"Classification Report\")\n",
    "print(classification_report(y_test, predictions))"
   ]
  },
  {
   "cell_type": "markdown",
   "metadata": {
    "id": "A-0fyLE4ui--"
   },
   "source": [
    "**Evaluation:** For this optimization, `SMOTE` was used to oversample the data, which resulted in an overall accuracy score of 92.05% when predicting both class `0` and `1`. Compared to the initial model that used `RandomOverSampler` for oversampling, the overall accuracy decreased."
   ]
  }
 ],
 "metadata": {
  "colab": {
   "authorship_tag": "ABX9TyOni0E8+n9GnFMOHVjGIuNn",
   "provenance": [],
   "toc_visible": true
  },
  "kernelspec": {
   "display_name": "Python 3 (ipykernel)",
   "language": "python",
   "name": "python3"
  },
  "language_info": {
   "codemirror_mode": {
    "name": "ipython",
    "version": 3
   },
   "file_extension": ".py",
   "mimetype": "text/x-python",
   "name": "python",
   "nbconvert_exporter": "python",
   "pygments_lexer": "ipython3",
   "version": "3.11.5"
  }
 },
 "nbformat": 4,
 "nbformat_minor": 1
}
